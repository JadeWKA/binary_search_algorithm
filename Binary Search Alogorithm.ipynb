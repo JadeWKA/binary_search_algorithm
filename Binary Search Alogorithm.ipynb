{
 "cells": [
  {
   "cell_type": "markdown",
   "id": "5a706908",
   "metadata": {},
   "source": [
    "### Binary Search Algorithm\n",
    "\n",
    "takes a list of ordered data, and takes a target. \n",
    "Splitting the list into half to find the target,\n",
    "Until the target is found. "
   ]
  },
  {
   "cell_type": "code",
   "execution_count": 12,
   "id": "1919d820",
   "metadata": {},
   "outputs": [],
   "source": [
    "a_list = [x for x in range(1,100001)]\n",
    "\n",
    "# using list comprehension to get 1 to 100000.\n",
    "# the end of range is always not inclusive.\n",
    "# the start of the range is inclusive.\n",
    "\n",
    "# list has to be sorted in order to do binary search\n",
    "# data types like set cannot perform binary search before changing into list and be sorted\n",
    "\n",
    "# print(a_list)"
   ]
  },
  {
   "cell_type": "code",
   "execution_count": 13,
   "id": "ea6b7b56",
   "metadata": {},
   "outputs": [],
   "source": [
    "def binary_search(listObj, target):\n",
    "    head = 0\n",
    "    tail = len(listObj)-1\n",
    "    mid = 0 \n",
    "    \n",
    "    if listObj[head] == target:\n",
    "        print(\"Target found in index \", head)\n",
    "        return None\n",
    "    elif listObj[tail] == target:\n",
    "        print(\"Target found in index \", tail)\n",
    "        return None\n",
    "              \n",
    "    while (target != listObj[head] or listObj[tail] or listObj[mid]):\n",
    "        mid = (head+tail)//2\n",
    "        if listObj[mid] == target:\n",
    "            print(\"Target found in index \", mid)\n",
    "            return None\n",
    "        elif listObj[mid] > target:\n",
    "            tail = mid\n",
    "            mid = (head+tail)//2 # floor division, get the nearest integer\n",
    "        elif listObj[mid] < target:\n",
    "            head = mid\n",
    "            mid = (head+tail)//2"
   ]
  },
  {
   "cell_type": "code",
   "execution_count": 14,
   "id": "7bc6f9f6",
   "metadata": {},
   "outputs": [
    {
     "name": "stdout",
     "output_type": "stream",
     "text": [
      "Target found in index  999\n"
     ]
    }
   ],
   "source": [
    "binary_search(a_list, 1000)"
   ]
  },
  {
   "cell_type": "code",
   "execution_count": null,
   "id": "d362ca3b",
   "metadata": {},
   "outputs": [],
   "source": []
  }
 ],
 "metadata": {
  "kernelspec": {
   "display_name": "Python 3.9 (tensorflow)",
   "language": "python",
   "name": "tensorflow"
  },
  "language_info": {
   "codemirror_mode": {
    "name": "ipython",
    "version": 3
   },
   "file_extension": ".py",
   "mimetype": "text/x-python",
   "name": "python",
   "nbconvert_exporter": "python",
   "pygments_lexer": "ipython3",
   "version": "3.9.13"
  }
 },
 "nbformat": 4,
 "nbformat_minor": 5
}
